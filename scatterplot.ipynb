{
 "cells": [
  {
   "cell_type": "code",
   "execution_count": 92,
   "id": "8cc1fc3f",
   "metadata": {},
   "outputs": [],
   "source": [
    "import sys\n",
    "import pandas as pd\n",
    "import numpy as np\n",
    "import csv\n",
    "import requests\n",
    "from bs4 import BeautifulSoup\n",
    "import json\n",
    "import statsmodels.api as sm\n",
    "from scipy import stats\n",
    "import time \n",
    "from collections import Counter\n",
    "import seaborn as sns\n",
    "import matplotlib.pyplot as plt\n",
    "\n",
    "\n",
    "def static_function(path_to_static_data):\n",
    "    #static mode\n",
    "    #add the functions/code you need to open and print the static copies of your data\n",
    "    #you can use the path provided in the command line argument to open the data\n",
    "    f = open(path_to_static_data,\"r\")\n",
    "    print(f.read())\n"
   ]
  },
  {
   "cell_type": "code",
   "execution_count": 98,
   "id": "af2b2821",
   "metadata": {
    "scrolled": false
   },
   "outputs": [
    {
     "name": "stdout",
     "output_type": "stream",
     "text": [
      "The correlation coefficient for traffic collisions and house prices is 0.16902478717195035\n",
      "                            OLS Regression Results                            \n",
      "==============================================================================\n",
      "Dep. Variable:                      y   R-squared:                       0.029\n",
      "Model:                            OLS   Adj. R-squared:                 -0.093\n",
      "Method:                 Least Squares   F-statistic:                    0.2353\n",
      "Date:                Tue, 10 May 2022   Prob (F-statistic):              0.641\n",
      "Time:                        21:01:20   Log-Likelihood:                -75.440\n",
      "No. Observations:                  10   AIC:                             154.9\n",
      "Df Residuals:                       8   BIC:                             155.5\n",
      "Df Model:                           1                                         \n",
      "Covariance Type:            nonrobust                                         \n",
      "==============================================================================\n",
      "                 coef    std err          t      P>|t|      [0.025      0.975]\n",
      "------------------------------------------------------------------------------\n",
      "const       2632.2594    673.993      3.905      0.005    1078.029    4186.489\n",
      "x1             5.2201     10.762      0.485      0.641     -19.597      30.037\n",
      "==============================================================================\n",
      "Omnibus:                        0.179   Durbin-Watson:                   1.641\n",
      "Prob(Omnibus):                  0.914   Jarque-Bera (JB):                0.367\n",
      "Skew:                          -0.092   Prob(JB):                        0.833\n",
      "Kurtosis:                       2.080   Cond. No.                         261.\n",
      "==============================================================================\n",
      "\n",
      "Notes:\n",
      "[1] Standard Errors assume that the covariance matrix of the errors is correctly specified.\n",
      "<seaborn.axisgrid.FacetGrid object at 0x7fd54ae47bb0>\n"
     ]
    },
    {
     "name": "stderr",
     "output_type": "stream",
     "text": [
      "/Users/mingcanli/opt/anaconda3/lib/python3.9/site-packages/scipy/stats/stats.py:1541: UserWarning: kurtosistest only valid for n>=20 ... continuing anyway, n=10\n",
      "  warnings.warn(\"kurtosistest only valid for n>=20 ... continuing \"\n"
     ]
    },
    {
     "data": {
      "image/png": "[encoded data removed]",
      "text/plain": [
       "<Figure size 360x360 with 1 Axes>"
      ]
     },
     "metadata": {},
     "output_type": "display_data"
    }
   ],
   "source": [
    "    #analysis part\n",
    "a = open('zipcode.csv',\"r\")\n",
    "csvreader = csv.reader(a)\n",
    "zipcode_list = []\n",
    "for x in csvreader:\n",
    "        zipcode_list.append(x[0])\n",
    "        c = Counter(zipcode_list)\n",
    "        top_10_zip = c.most_common(10)\n",
    "#print(top_10_zip)\n",
    "b = open('avg_price.csv',\"r\")\n",
    "reader2 = csv.reader(b)\n",
    "#print(b.read())\n",
    "dict_avg = []\n",
    "for row in reader2:\n",
    "        dict_avg.append(float(row[1]))\n",
    "#print(dict_avg)\n",
    "frequency_accident = []\n",
    "for value in top_10_zip:\n",
    "        frequency_accident.append(int(value[1]))\n",
    "#print(frequency_accident)\n",
    "correlation, p_value = stats.pearsonr(frequency_accident, dict_avg)\n",
    "print(\"The correlation coefficient for traffic collisions and house prices is \" + str(correlation))\n",
    "Y = dict_avg \n",
    "X = frequency_accident\n",
    "X = sm.add_constant(X)\n",
    "est=sm.OLS(Y, X)\n",
    "est = est.fit()\n",
    "print(est.summary())\n",
    "new_dataset = open(\"new.csv\", \"w\")\n",
    "final = [(\"frequency of collision\",\"average house price\")]\n",
    "for x in range(len(dict_avg)):\n",
    "        final.append((frequency_accident[x],dict_avg[x]))\n",
    "#print(final)\n",
    "for n in final:\n",
    "        for y in n:\n",
    "            new_dataset.write(str(y)+',')\n",
    "        new_dataset.write('\\n')\n",
    "new_dataset.close()\n",
    "#z = open(\"new.csv\", \"r\")\n",
    "#print(z.read())\n",
    "con = pd.read_csv('new.csv')\n",
    "#print(con)\n",
    "con.rename(columns={'frequency of collision':'frequency of collision','average house price':'average house price','Unnamed: 2':'N/A'}, inplace=True)\n",
    "#print(con.head())\n",
    "\n",
    "\n",
    "#print(sns.scatterplot(x=\"frequency of collision\", y=\"average house price\", data=con))\n",
    "print(sns.lmplot(x=\"frequency of collision\", y=\"average house price\", data=con))"
   ]
  },
  {
   "cell_type": "code",
   "execution_count": null,
   "id": "5c9c9676",
   "metadata": {},
   "outputs": [],
   "source": []
  }
 ],
 "metadata": {
  "kernelspec": {
   "display_name": "Python 3 (ipykernel)",
   "language": "python",
   "name": "python3"
  },
  "language_info": {
   "codemirror_mode": {
    "name": "ipython",
    "version": 3
   },
   "file_extension": ".py",
   "mimetype": "text/x-python",
   "name": "python",
   "nbconvert_exporter": "python",
   "pygments_lexer": "ipython3",
   "version": "3.9.7"
  }
 },
 "nbformat": 4,
 "nbformat_minor": 5
}
